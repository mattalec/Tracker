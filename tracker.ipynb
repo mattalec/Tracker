{
 "cells": [
  {
   "cell_type": "code",
   "execution_count": 1,
   "metadata": {},
   "outputs": [],
   "source": [
    "import numpy as np\n",
    "import pandas as pd\n",
    "import datetime as dt"
   ]
  },
  {
   "cell_type": "code",
   "execution_count": 5,
   "metadata": {},
   "outputs": [],
   "source": [
    "ins = np.ones((19,2), dtype=str)"
   ]
  },
  {
   "cell_type": "code",
   "execution_count": 7,
   "metadata": {},
   "outputs": [],
   "source": [
    "hourly = pd.DataFrame(ins, columns=['half1', 'half2'])"
   ]
  },
  {
   "cell_type": "code",
   "execution_count": 9,
   "metadata": {},
   "outputs": [],
   "source": [
    "hourly.to_csv('planner.csv')"
   ]
  },
  {
   "cell_type": "code",
   "execution_count": 15,
   "metadata": {},
   "outputs": [
    {
     "data": {
      "text/plain": [
       "1"
      ]
     },
     "execution_count": 15,
     "metadata": {},
     "output_type": "execute_result"
    }
   ],
   "source": [
    "dt.datetime.now().weekday()"
   ]
  },
  {
   "cell_type": "code",
   "execution_count": 22,
   "metadata": {},
   "outputs": [],
   "source": [
    "sleep = pd.read_csv('daily_tracks.csv').drop('Unnamed: 0', axis = 1)"
   ]
  },
  {
   "cell_type": "code",
   "execution_count": 23,
   "metadata": {},
   "outputs": [
    {
     "data": {
      "text/html": [
       "<div>\n",
       "<style scoped>\n",
       "    .dataframe tbody tr th:only-of-type {\n",
       "        vertical-align: middle;\n",
       "    }\n",
       "\n",
       "    .dataframe tbody tr th {\n",
       "        vertical-align: top;\n",
       "    }\n",
       "\n",
       "    .dataframe thead th {\n",
       "        text-align: right;\n",
       "    }\n",
       "</style>\n",
       "<table border=\"1\" class=\"dataframe\">\n",
       "  <thead>\n",
       "    <tr style=\"text-align: right;\">\n",
       "      <th></th>\n",
       "      <th>date</th>\n",
       "      <th>in_bed</th>\n",
       "      <th>sleep</th>\n",
       "      <th>wake</th>\n",
       "      <th>out_bed</th>\n",
       "      <th>efficiency</th>\n",
       "    </tr>\n",
       "  </thead>\n",
       "  <tbody>\n",
       "    <tr>\n",
       "      <th>0</th>\n",
       "      <td>21/02/21</td>\n",
       "      <td>22:45</td>\n",
       "      <td>23:20</td>\n",
       "      <td>08:13</td>\n",
       "      <td>08:49</td>\n",
       "      <td>0.8825</td>\n",
       "    </tr>\n",
       "    <tr>\n",
       "      <th>1</th>\n",
       "      <td>21/02/21</td>\n",
       "      <td>22:00</td>\n",
       "      <td>23:00</td>\n",
       "      <td>07:00</td>\n",
       "      <td>08:00</td>\n",
       "      <td>0.8000</td>\n",
       "    </tr>\n",
       "    <tr>\n",
       "      <th>2</th>\n",
       "      <td>22/02/21</td>\n",
       "      <td>22:00</td>\n",
       "      <td>23:00</td>\n",
       "      <td>07:00</td>\n",
       "      <td>08:00</td>\n",
       "      <td>0.8000</td>\n",
       "    </tr>\n",
       "    <tr>\n",
       "      <th>3</th>\n",
       "      <td>22/02/21</td>\n",
       "      <td>00:52</td>\n",
       "      <td>01:30</td>\n",
       "      <td>07:43</td>\n",
       "      <td>08:03</td>\n",
       "      <td>0.9690</td>\n",
       "    </tr>\n",
       "    <tr>\n",
       "      <th>4</th>\n",
       "      <td>22/02/21</td>\n",
       "      <td>00:52</td>\n",
       "      <td>01:30</td>\n",
       "      <td>07:43</td>\n",
       "      <td>08:03</td>\n",
       "      <td>0.8654</td>\n",
       "    </tr>\n",
       "    <tr>\n",
       "      <th>5</th>\n",
       "      <td>22/02/21</td>\n",
       "      <td>21:30</td>\n",
       "      <td>01:30</td>\n",
       "      <td>07:30</td>\n",
       "      <td>08:00</td>\n",
       "      <td>0.5714</td>\n",
       "    </tr>\n",
       "    <tr>\n",
       "      <th>6</th>\n",
       "      <td>22/02/21</td>\n",
       "      <td>19:30</td>\n",
       "      <td>21:15</td>\n",
       "      <td>06:23</td>\n",
       "      <td>08:12</td>\n",
       "      <td>-1.1706</td>\n",
       "    </tr>\n",
       "    <tr>\n",
       "      <th>7</th>\n",
       "      <td>22/02/21</td>\n",
       "      <td>19:30</td>\n",
       "      <td>21:15</td>\n",
       "      <td>06:23</td>\n",
       "      <td>08:12</td>\n",
       "      <td>0.7192</td>\n",
       "    </tr>\n",
       "    <tr>\n",
       "      <th>8</th>\n",
       "      <td>22/02/21</td>\n",
       "      <td>22:00</td>\n",
       "      <td>23:00</td>\n",
       "      <td>07:00</td>\n",
       "      <td>08:00</td>\n",
       "      <td>0.8000</td>\n",
       "    </tr>\n",
       "    <tr>\n",
       "      <th>9</th>\n",
       "      <td>22/02/21</td>\n",
       "      <td>22:00</td>\n",
       "      <td>23:00</td>\n",
       "      <td>08:00</td>\n",
       "      <td>09:00</td>\n",
       "      <td>0.8182</td>\n",
       "    </tr>\n",
       "    <tr>\n",
       "      <th>10</th>\n",
       "      <td>22/02/21</td>\n",
       "      <td>00:15</td>\n",
       "      <td>06:30</td>\n",
       "      <td>06:30</td>\n",
       "      <td>08:25</td>\n",
       "      <td>0.0000</td>\n",
       "    </tr>\n",
       "    <tr>\n",
       "      <th>11</th>\n",
       "      <td>22/02/21</td>\n",
       "      <td>02:00</td>\n",
       "      <td>03:00</td>\n",
       "      <td>08:00</td>\n",
       "      <td>09:00</td>\n",
       "      <td>0.7143</td>\n",
       "    </tr>\n",
       "    <tr>\n",
       "      <th>12</th>\n",
       "      <td>22/02/21</td>\n",
       "      <td>22:00</td>\n",
       "      <td>23:00</td>\n",
       "      <td>07:00</td>\n",
       "      <td>08:00</td>\n",
       "      <td>0.8000</td>\n",
       "    </tr>\n",
       "    <tr>\n",
       "      <th>13</th>\n",
       "      <td>22/02/21</td>\n",
       "      <td>22:56</td>\n",
       "      <td>00:45</td>\n",
       "      <td>07:25</td>\n",
       "      <td>08:30</td>\n",
       "      <td>0.6969</td>\n",
       "    </tr>\n",
       "    <tr>\n",
       "      <th>14</th>\n",
       "      <td>23/02/21</td>\n",
       "      <td>00:15</td>\n",
       "      <td>06:25</td>\n",
       "      <td>06:25</td>\n",
       "      <td>07:40</td>\n",
       "      <td>0.0000</td>\n",
       "    </tr>\n",
       "    <tr>\n",
       "      <th>15</th>\n",
       "      <td>23/02/21</td>\n",
       "      <td>00:00</td>\n",
       "      <td>12:30</td>\n",
       "      <td>09:25</td>\n",
       "      <td>16:35</td>\n",
       "      <td>1.2613</td>\n",
       "    </tr>\n",
       "    <tr>\n",
       "      <th>16</th>\n",
       "      <td>23/02/21</td>\n",
       "      <td>00:24</td>\n",
       "      <td>00:40</td>\n",
       "      <td>07:51</td>\n",
       "      <td>08:02</td>\n",
       "      <td>0.9410</td>\n",
       "    </tr>\n",
       "    <tr>\n",
       "      <th>17</th>\n",
       "      <td>28/02/21</td>\n",
       "      <td>22:00</td>\n",
       "      <td>23:00</td>\n",
       "      <td>07:00</td>\n",
       "      <td>08:00</td>\n",
       "      <td>0.8000</td>\n",
       "    </tr>\n",
       "    <tr>\n",
       "      <th>18</th>\n",
       "      <td>28/02/21</td>\n",
       "      <td>22:00</td>\n",
       "      <td>23:00</td>\n",
       "      <td>07:00</td>\n",
       "      <td>08:00</td>\n",
       "      <td>0.8000</td>\n",
       "    </tr>\n",
       "    <tr>\n",
       "      <th>19</th>\n",
       "      <td>28/02/21</td>\n",
       "      <td>22:00</td>\n",
       "      <td>23:00</td>\n",
       "      <td>07:00</td>\n",
       "      <td>08:00</td>\n",
       "      <td>0.8000</td>\n",
       "    </tr>\n",
       "    <tr>\n",
       "      <th>20</th>\n",
       "      <td>28/02/21</td>\n",
       "      <td>22:00</td>\n",
       "      <td>23:00</td>\n",
       "      <td>07:00</td>\n",
       "      <td>08:00</td>\n",
       "      <td>0.8000</td>\n",
       "    </tr>\n",
       "    <tr>\n",
       "      <th>21</th>\n",
       "      <td>28/02/21</td>\n",
       "      <td>22:00</td>\n",
       "      <td>23:00</td>\n",
       "      <td>07:00</td>\n",
       "      <td>08:00</td>\n",
       "      <td>0.8000</td>\n",
       "    </tr>\n",
       "    <tr>\n",
       "      <th>22</th>\n",
       "      <td>28/02/21</td>\n",
       "      <td>23:00</td>\n",
       "      <td>00:12</td>\n",
       "      <td>06:45</td>\n",
       "      <td>08:11</td>\n",
       "      <td>0.7132</td>\n",
       "    </tr>\n",
       "    <tr>\n",
       "      <th>23</th>\n",
       "      <td>28/02/21</td>\n",
       "      <td>00:00</td>\n",
       "      <td>00:30</td>\n",
       "      <td>09:00</td>\n",
       "      <td>09:30</td>\n",
       "      <td>0.8947</td>\n",
       "    </tr>\n",
       "    <tr>\n",
       "      <th>24</th>\n",
       "      <td>28/02/21</td>\n",
       "      <td>22:15</td>\n",
       "      <td>22:30</td>\n",
       "      <td>07:00</td>\n",
       "      <td>08:00</td>\n",
       "      <td>0.8718</td>\n",
       "    </tr>\n",
       "    <tr>\n",
       "      <th>25</th>\n",
       "      <td>28/02/21</td>\n",
       "      <td>22:00</td>\n",
       "      <td>23:00</td>\n",
       "      <td>07:00</td>\n",
       "      <td>08:00</td>\n",
       "      <td>0.8000</td>\n",
       "    </tr>\n",
       "    <tr>\n",
       "      <th>26</th>\n",
       "      <td>28/02/21</td>\n",
       "      <td>22:00</td>\n",
       "      <td>23:30</td>\n",
       "      <td>00:54</td>\n",
       "      <td>01:12</td>\n",
       "      <td>0.4375</td>\n",
       "    </tr>\n",
       "    <tr>\n",
       "      <th>27</th>\n",
       "      <td>01/03/21</td>\n",
       "      <td>22:00</td>\n",
       "      <td>23:00</td>\n",
       "      <td>07:00</td>\n",
       "      <td>08:00</td>\n",
       "      <td>0.8000</td>\n",
       "    </tr>\n",
       "    <tr>\n",
       "      <th>28</th>\n",
       "      <td>01/03/21</td>\n",
       "      <td>00:13</td>\n",
       "      <td>00:40</td>\n",
       "      <td>07:48</td>\n",
       "      <td>08:17</td>\n",
       "      <td>0.8843</td>\n",
       "    </tr>\n",
       "    <tr>\n",
       "      <th>29</th>\n",
       "      <td>02/03/21</td>\n",
       "      <td>23:00</td>\n",
       "      <td>23:15</td>\n",
       "      <td>06:20</td>\n",
       "      <td>06:58</td>\n",
       "      <td>0.8891</td>\n",
       "    </tr>\n",
       "  </tbody>\n",
       "</table>\n",
       "</div>"
      ],
      "text/plain": [
       "        date in_bed  sleep   wake out_bed  efficiency\n",
       "0   21/02/21  22:45  23:20  08:13   08:49      0.8825\n",
       "1   21/02/21  22:00  23:00  07:00   08:00      0.8000\n",
       "2   22/02/21  22:00  23:00  07:00   08:00      0.8000\n",
       "3   22/02/21  00:52  01:30  07:43   08:03      0.9690\n",
       "4   22/02/21  00:52  01:30  07:43   08:03      0.8654\n",
       "5   22/02/21  21:30  01:30  07:30   08:00      0.5714\n",
       "6   22/02/21  19:30  21:15  06:23   08:12     -1.1706\n",
       "7   22/02/21  19:30  21:15  06:23   08:12      0.7192\n",
       "8   22/02/21  22:00  23:00  07:00   08:00      0.8000\n",
       "9   22/02/21  22:00  23:00  08:00   09:00      0.8182\n",
       "10  22/02/21  00:15  06:30  06:30   08:25      0.0000\n",
       "11  22/02/21  02:00  03:00  08:00   09:00      0.7143\n",
       "12  22/02/21  22:00  23:00  07:00   08:00      0.8000\n",
       "13  22/02/21  22:56  00:45  07:25   08:30      0.6969\n",
       "14  23/02/21  00:15  06:25  06:25   07:40      0.0000\n",
       "15  23/02/21  00:00  12:30  09:25   16:35      1.2613\n",
       "16  23/02/21  00:24  00:40  07:51   08:02      0.9410\n",
       "17  28/02/21  22:00  23:00  07:00   08:00      0.8000\n",
       "18  28/02/21  22:00  23:00  07:00   08:00      0.8000\n",
       "19  28/02/21  22:00  23:00  07:00   08:00      0.8000\n",
       "20  28/02/21  22:00  23:00  07:00   08:00      0.8000\n",
       "21  28/02/21  22:00  23:00  07:00   08:00      0.8000\n",
       "22  28/02/21  23:00  00:12  06:45   08:11      0.7132\n",
       "23  28/02/21  00:00  00:30  09:00   09:30      0.8947\n",
       "24  28/02/21  22:15  22:30  07:00   08:00      0.8718\n",
       "25  28/02/21  22:00  23:00  07:00   08:00      0.8000\n",
       "26  28/02/21  22:00  23:30  00:54   01:12      0.4375\n",
       "27  01/03/21  22:00  23:00  07:00   08:00      0.8000\n",
       "28  01/03/21  00:13  00:40  07:48   08:17      0.8843\n",
       "29  02/03/21  23:00  23:15  06:20   06:58      0.8891"
      ]
     },
     "execution_count": 23,
     "metadata": {},
     "output_type": "execute_result"
    }
   ],
   "source": [
    "sleep"
   ]
  },
  {
   "cell_type": "code",
   "execution_count": null,
   "metadata": {},
   "outputs": [],
   "source": [
    "dt.datetime.now()"
   ]
  },
  {
   "cell_type": "code",
   "execution_count": 301,
   "metadata": {},
   "outputs": [
    {
     "data": {
      "text/plain": [
       "['f0', 'f1', 'f2', 'f3', 'f4']"
      ]
     },
     "execution_count": 301,
     "metadata": {},
     "output_type": "execute_result"
    }
   ],
   "source": [
    "[f'f{i}' for i in range(5)]"
   ]
  },
  {
   "cell_type": "code",
   "execution_count": 265,
   "metadata": {},
   "outputs": [],
   "source": [
    "def timein_datetimeout(type): \n",
    "    \n",
    "    time_str = str(input(f'what time did you {type}? (%H:%M): '))\n",
    "    if ':' in time_str:\n",
    "        time_datetime = dt.datetime.strptime(time_str, '%H:%M').time()\n",
    "    else:\n",
    "        time_datetime = dt.datetime.strptime(time_str, '%H').time()\n",
    "        \n",
    "    return time_datetime\n",
    "\n",
    "def sleep(pdDataFrame):\n",
    "    \n",
    "    header = np.array(['date', 'in_bed', 'sleep', 'wake', 'out_bed','efficiency'])\n",
    "    day = dt.datetime.now().date()\n",
    "    next_day = day + datetime.timedelta(days=1)\n",
    "    in_bed = timein_datetimeout('get into bed')\n",
    "    sleep = timein_datetimeout('sleep')\n",
    "    wake = timein_datetimeout('wake')\n",
    "    out_bed = timein_datetimeout('get out of bed')\n",
    "    \n",
    "    time_bed = dt.datetime.combine(next_day, out_bed) - dt.datetime.combine(day, in_bed)\n",
    "    time_asleep = dt.datetime.combine(next_day, wake) - dt.datetime.combine(day,sleep)\n",
    "    efficiency = np.round(time_asleep/time_bed, 4)\n",
    "    \n",
    "    # headers = ['date', 'in_bed', 'sleep', 'wake', 'out_bed','efficiency']\n",
    "    to_add = pd.DataFrame([[day.strftime(\"%d/%m/%y\"), \n",
    "                       in_bed.strftime('%H:%M'), \n",
    "                       sleep.strftime('%H:%M'), \n",
    "                       wake.strftime('%H:%M'), \n",
    "                       out_bed.strftime('%H:%M'), \n",
    "                       efficiency]], columns= header)\n",
    "    pdDataFrame = pdDataFrame.append(to_add)\n",
    "    \n",
    "    return pdDataFrame"
   ]
  },
  {
   "cell_type": "code",
   "execution_count": 3,
   "metadata": {},
   "outputs": [
    {
     "data": {
      "text/html": [
       "<div>\n",
       "<style scoped>\n",
       "    .dataframe tbody tr th:only-of-type {\n",
       "        vertical-align: middle;\n",
       "    }\n",
       "\n",
       "    .dataframe tbody tr th {\n",
       "        vertical-align: top;\n",
       "    }\n",
       "\n",
       "    .dataframe thead th {\n",
       "        text-align: right;\n",
       "    }\n",
       "</style>\n",
       "<table border=\"1\" class=\"dataframe\">\n",
       "  <thead>\n",
       "    <tr style=\"text-align: right;\">\n",
       "      <th></th>\n",
       "      <th>date</th>\n",
       "      <th>in_bed</th>\n",
       "      <th>sleep</th>\n",
       "      <th>wake</th>\n",
       "      <th>out_bed</th>\n",
       "      <th>efficiency</th>\n",
       "    </tr>\n",
       "  </thead>\n",
       "  <tbody>\n",
       "    <tr>\n",
       "      <th>0</th>\n",
       "      <td>21/02/21</td>\n",
       "      <td>22:45</td>\n",
       "      <td>23:20</td>\n",
       "      <td>08:13</td>\n",
       "      <td>08:49</td>\n",
       "      <td>0.8825</td>\n",
       "    </tr>\n",
       "    <tr>\n",
       "      <th>1</th>\n",
       "      <td>21/02/21</td>\n",
       "      <td>22:00</td>\n",
       "      <td>23:00</td>\n",
       "      <td>07:00</td>\n",
       "      <td>08:00</td>\n",
       "      <td>0.8000</td>\n",
       "    </tr>\n",
       "    <tr>\n",
       "      <th>2</th>\n",
       "      <td>22/02/21</td>\n",
       "      <td>22:00</td>\n",
       "      <td>23:00</td>\n",
       "      <td>07:00</td>\n",
       "      <td>08:00</td>\n",
       "      <td>0.8000</td>\n",
       "    </tr>\n",
       "    <tr>\n",
       "      <th>3</th>\n",
       "      <td>22/02/21</td>\n",
       "      <td>00:52</td>\n",
       "      <td>01:30</td>\n",
       "      <td>07:43</td>\n",
       "      <td>08:03</td>\n",
       "      <td>0.9690</td>\n",
       "    </tr>\n",
       "    <tr>\n",
       "      <th>4</th>\n",
       "      <td>22/02/21</td>\n",
       "      <td>00:52</td>\n",
       "      <td>01:30</td>\n",
       "      <td>07:43</td>\n",
       "      <td>08:03</td>\n",
       "      <td>0.8654</td>\n",
       "    </tr>\n",
       "  </tbody>\n",
       "</table>\n",
       "</div>"
      ],
      "text/plain": [
       "       date in_bed  sleep   wake out_bed  efficiency\n",
       "0  21/02/21  22:45  23:20  08:13   08:49      0.8825\n",
       "1  21/02/21  22:00  23:00  07:00   08:00      0.8000\n",
       "2  22/02/21  22:00  23:00  07:00   08:00      0.8000\n",
       "3  22/02/21  00:52  01:30  07:43   08:03      0.9690\n",
       "4  22/02/21  00:52  01:30  07:43   08:03      0.8654"
      ]
     },
     "execution_count": 3,
     "metadata": {},
     "output_type": "execute_result"
    }
   ],
   "source": [
    "#ds = pd.DataFrame(columns = header)\n",
    "ds = pd.read_csv(r'C:\\Users\\alec\\Desktop\\tracker\\daily_tracks.csv').drop('Unnamed: 0',axis = 1)\n",
    "ds.head()"
   ]
  },
  {
   "cell_type": "code",
   "execution_count": 266,
   "metadata": {},
   "outputs": [
    {
     "name": "stdout",
     "output_type": "stream",
     "text": [
      "what time did you get into bed? (%H:%M): 22\n",
      "what time did you sleep? (%H:%M): 23\n",
      "what time did you wake? (%H:%M): 7\n",
      "what time did you get out of bed? (%H:%M): 8\n",
      "       date in_bed  sleep   wake out_bed  efficiency\n",
      "0  21/02/21  22:45  23:20  08:13   08:49      0.8825\n",
      "0  21/02/21  22:00  23:00  07:00   08:00      0.8000\n"
     ]
    }
   ],
   "source": [
    "ds = sleep(ds)"
   ]
  },
  {
   "cell_type": "code",
   "execution_count": 6,
   "metadata": {},
   "outputs": [],
   "source": [
    "track_ds = pd.DataFrame(columns=['header','content'])"
   ]
  },
  {
   "cell_type": "code",
   "execution_count": 7,
   "metadata": {},
   "outputs": [
    {
     "data": {
      "text/html": [
       "<div>\n",
       "<style scoped>\n",
       "    .dataframe tbody tr th:only-of-type {\n",
       "        vertical-align: middle;\n",
       "    }\n",
       "\n",
       "    .dataframe tbody tr th {\n",
       "        vertical-align: top;\n",
       "    }\n",
       "\n",
       "    .dataframe thead th {\n",
       "        text-align: right;\n",
       "    }\n",
       "</style>\n",
       "<table border=\"1\" class=\"dataframe\">\n",
       "  <thead>\n",
       "    <tr style=\"text-align: right;\">\n",
       "      <th></th>\n",
       "      <th>header</th>\n",
       "      <th>content</th>\n",
       "    </tr>\n",
       "  </thead>\n",
       "  <tbody>\n",
       "  </tbody>\n",
       "</table>\n",
       "</div>"
      ],
      "text/plain": [
       "Empty DataFrame\n",
       "Columns: [header, content]\n",
       "Index: []"
      ]
     },
     "execution_count": 7,
     "metadata": {},
     "output_type": "execute_result"
    }
   ],
   "source": [
    "track_ds"
   ]
  },
  {
   "cell_type": "code",
   "execution_count": 34,
   "metadata": {},
   "outputs": [],
   "source": [
    "header, content = track_ds.iloc[0]"
   ]
  },
  {
   "cell_type": "code",
   "execution_count": 15,
   "metadata": {},
   "outputs": [],
   "source": [
    "isn = np.ones((10,2), dtype=str)\n",
    "tryds = pd.DataFrame(isn, columns=['header','content'])"
   ]
  },
  {
   "cell_type": "code",
   "execution_count": 16,
   "metadata": {},
   "outputs": [
    {
     "data": {
      "text/html": [
       "<div>\n",
       "<style scoped>\n",
       "    .dataframe tbody tr th:only-of-type {\n",
       "        vertical-align: middle;\n",
       "    }\n",
       "\n",
       "    .dataframe tbody tr th {\n",
       "        vertical-align: top;\n",
       "    }\n",
       "\n",
       "    .dataframe thead th {\n",
       "        text-align: right;\n",
       "    }\n",
       "</style>\n",
       "<table border=\"1\" class=\"dataframe\">\n",
       "  <thead>\n",
       "    <tr style=\"text-align: right;\">\n",
       "      <th></th>\n",
       "      <th>header</th>\n",
       "      <th>content</th>\n",
       "    </tr>\n",
       "  </thead>\n",
       "  <tbody>\n",
       "    <tr>\n",
       "      <th>0</th>\n",
       "      <td>1</td>\n",
       "      <td>1</td>\n",
       "    </tr>\n",
       "  </tbody>\n",
       "</table>\n",
       "</div>"
      ],
      "text/plain": [
       "  header content\n",
       "0      1       1"
      ]
     },
     "execution_count": 16,
     "metadata": {},
     "output_type": "execute_result"
    }
   ],
   "source": [
    "track_ds.append(tryds.iloc[0])"
   ]
  },
  {
   "cell_type": "code",
   "execution_count": 17,
   "metadata": {},
   "outputs": [
    {
     "data": {
      "text/html": [
       "<div>\n",
       "<style scoped>\n",
       "    .dataframe tbody tr th:only-of-type {\n",
       "        vertical-align: middle;\n",
       "    }\n",
       "\n",
       "    .dataframe tbody tr th {\n",
       "        vertical-align: top;\n",
       "    }\n",
       "\n",
       "    .dataframe thead th {\n",
       "        text-align: right;\n",
       "    }\n",
       "</style>\n",
       "<table border=\"1\" class=\"dataframe\">\n",
       "  <thead>\n",
       "    <tr style=\"text-align: right;\">\n",
       "      <th></th>\n",
       "      <th>header</th>\n",
       "      <th>content</th>\n",
       "    </tr>\n",
       "  </thead>\n",
       "  <tbody>\n",
       "  </tbody>\n",
       "</table>\n",
       "</div>"
      ],
      "text/plain": [
       "Empty DataFrame\n",
       "Columns: [header, content]\n",
       "Index: []"
      ]
     },
     "execution_count": 17,
     "metadata": {},
     "output_type": "execute_result"
    }
   ],
   "source": [
    "track_ds"
   ]
  },
  {
   "cell_type": "code",
   "execution_count": 41,
   "metadata": {},
   "outputs": [
    {
     "data": {
      "text/plain": [
       "array([['1', '1'],\n",
       "       ['1', '1'],\n",
       "       ['1', '1'],\n",
       "       ['1', '1'],\n",
       "       ['1', '1'],\n",
       "       ['1', '1'],\n",
       "       ['1', '1'],\n",
       "       ['1', '1'],\n",
       "       ['1', '1'],\n",
       "       ['1', '1']], dtype='<U1')"
      ]
     },
     "execution_count": 41,
     "metadata": {},
     "output_type": "execute_result"
    }
   ],
   "source": [
    "isn"
   ]
  },
  {
   "cell_type": "code",
   "execution_count": 32,
   "metadata": {},
   "outputs": [],
   "source": [
    "track_ds.iloc[0] = ['hel','oo']"
   ]
  },
  {
   "cell_type": "code",
   "execution_count": 33,
   "metadata": {},
   "outputs": [
    {
     "data": {
      "text/plain": [
       "header     hel\n",
       "content     oo\n",
       "Name: 0, dtype: object"
      ]
     },
     "execution_count": 33,
     "metadata": {},
     "output_type": "execute_result"
    }
   ],
   "source": [
    "track_ds.iloc[0]"
   ]
  },
  {
   "cell_type": "code",
   "execution_count": 8,
   "metadata": {},
   "outputs": [],
   "source": [
    "track_ds.to_csv('./done_tasks.csv')"
   ]
  },
  {
   "cell_type": "code",
   "execution_count": 22,
   "metadata": {},
   "outputs": [],
   "source": [
    "ds.to_csv('./daily_tracks.csv')"
   ]
  },
  {
   "cell_type": "code",
   "execution_count": 244,
   "metadata": {},
   "outputs": [
    {
     "data": {
      "text/plain": [
       "WindowsPath('C:/Users/alec/Desktop')"
      ]
     },
     "execution_count": 244,
     "metadata": {},
     "output_type": "execute_result"
    }
   ],
   "source": [
    "import pathlib\n",
    "pathlib.Path().absolute()"
   ]
  },
  {
   "cell_type": "code",
   "execution_count": 14,
   "metadata": {},
   "outputs": [
    {
     "data": {
      "text/plain": [
       "'11:03:06.881277'"
      ]
     },
     "execution_count": 14,
     "metadata": {},
     "output_type": "execute_result"
    }
   ],
   "source": [
    "str(datetime.datetime.now().time())"
   ]
  },
  {
   "cell_type": "code",
   "execution_count": 290,
   "metadata": {},
   "outputs": [
    {
     "data": {
      "text/plain": [
       "True"
      ]
     },
     "execution_count": 290,
     "metadata": {},
     "output_type": "execute_result"
    }
   ],
   "source": [
    "datetime.datetime.now().time() < datetime.time(12,59)"
   ]
  },
  {
   "cell_type": "code",
   "execution_count": 10,
   "metadata": {},
   "outputs": [],
   "source": [
    "h = pd.DataFrame(columns = ['hey', 'now'])"
   ]
  },
  {
   "cell_type": "code",
   "execution_count": 11,
   "metadata": {},
   "outputs": [
    {
     "data": {
      "text/html": [
       "<div>\n",
       "<style scoped>\n",
       "    .dataframe tbody tr th:only-of-type {\n",
       "        vertical-align: middle;\n",
       "    }\n",
       "\n",
       "    .dataframe tbody tr th {\n",
       "        vertical-align: top;\n",
       "    }\n",
       "\n",
       "    .dataframe thead th {\n",
       "        text-align: right;\n",
       "    }\n",
       "</style>\n",
       "<table border=\"1\" class=\"dataframe\">\n",
       "  <thead>\n",
       "    <tr style=\"text-align: right;\">\n",
       "      <th></th>\n",
       "      <th>hey</th>\n",
       "      <th>now</th>\n",
       "      <th>0</th>\n",
       "    </tr>\n",
       "  </thead>\n",
       "  <tbody>\n",
       "    <tr>\n",
       "      <th>0</th>\n",
       "      <td>NaN</td>\n",
       "      <td>NaN</td>\n",
       "      <td>1.0</td>\n",
       "    </tr>\n",
       "    <tr>\n",
       "      <th>1</th>\n",
       "      <td>NaN</td>\n",
       "      <td>NaN</td>\n",
       "      <td>0.0</td>\n",
       "    </tr>\n",
       "  </tbody>\n",
       "</table>\n",
       "</div>"
      ],
      "text/plain": [
       "   hey  now    0\n",
       "0  NaN  NaN  1.0\n",
       "1  NaN  NaN  0.0"
      ]
     },
     "execution_count": 11,
     "metadata": {},
     "output_type": "execute_result"
    }
   ],
   "source": [
    "h.append(pd.DataFrame[1,0])"
   ]
  },
  {
   "cell_type": "code",
   "execution_count": null,
   "metadata": {},
   "outputs": [],
   "source": []
  }
 ],
 "metadata": {
  "kernelspec": {
   "display_name": "Python 3",
   "language": "python",
   "name": "python3"
  },
  "language_info": {
   "codemirror_mode": {
    "name": "ipython",
    "version": 3
   },
   "file_extension": ".py",
   "mimetype": "text/x-python",
   "name": "python",
   "nbconvert_exporter": "python",
   "pygments_lexer": "ipython3",
   "version": "3.7.3"
  }
 },
 "nbformat": 4,
 "nbformat_minor": 2
}
