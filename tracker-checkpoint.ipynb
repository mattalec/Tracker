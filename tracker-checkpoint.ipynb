{
 "cells": [
  {
   "cell_type": "code",
   "execution_count": 32,
   "metadata": {},
   "outputs": [],
   "source": [
    "import numpy as np\n",
    "import pandas as pd\n",
    "import datetime as dt"
   ]
  },
  {
   "cell_type": "code",
   "execution_count": 215,
   "metadata": {},
   "outputs": [],
   "source": [
    "ds = pd.DataFrame(columns = header)"
   ]
  },
  {
   "cell_type": "code",
   "execution_count": 221,
   "metadata": {},
   "outputs": [],
   "source": [
    "def timein_datetimeout(type): \n",
    "    \n",
    "    time_str = str(input(f'what time did you {type}? (%H:%M): '))\n",
    "    if ':' in time_str:\n",
    "        time_datetime = dt.datetime.strptime(time_str, '%H:%M').time()\n",
    "    else:\n",
    "        time_datetime = dt.datetime.strptime(time_str, '%H').time()\n",
    "        \n",
    "    return time_datetime\n",
    "\n",
    "def sleep(pdDataFrame):\n",
    "    \n",
    "    header = np.array(['date', 'in_bed', 'sleep', 'wake', 'out_bed','efficiency'])\n",
    "    day = dt.datetime.now().date()\n",
    "    next_day = day + datetime.timedelta(days=1)\n",
    "    in_bed = timein_datetimeout('get into bed')\n",
    "    sleep = timein_datetimeout('sleep')\n",
    "    wake = timein_datetimeout('wake')\n",
    "    out_bed = timein_datetimeout('get out of bed')\n",
    "    \n",
    "    time_bed = dt.datetime.combine(next_day, out_bed) - dt.datetime.combine(day, in_bed)\n",
    "    time_asleep = dt.datetime.combine(next_day, wake) - dt.datetime.combine(day,sleep)\n",
    "    efficiency = np.round(time_asleep/time_bed, 4)\n",
    "    \n",
    "    # headers = ['date', 'in_bed', 'sleep', 'wake', 'out_bed','efficiency']\n",
    "    to_add = pd.DataFrame([[day.strftime(\"%d/%m/%y\"), \n",
    "                       in_bed.strftime('%H:%M'), \n",
    "                       sleep.strftime('%H:%M'), \n",
    "                       wake.strftime('%H:%M'), \n",
    "                       out_bed.strftime('%H:%M'), \n",
    "                       efficiency]], columns= header)\n",
    "    pdDataFrame = pdDataFrame.append(to_add)\n",
    "    \n",
    "    return pdDataFrame"
   ]
  },
  {
   "cell_type": "code",
   "execution_count": 224,
   "metadata": {},
   "outputs": [
    {
     "name": "stdout",
     "output_type": "stream",
     "text": [
      "what time did you get into bed? (%H:%M): 22\n",
      "what time did you sleep? (%H:%M): 23:45\n",
      "what time did you wake? (%H:%M): 11:00\n",
      "what time did you get out of bed? (%H:%M): 15:15\n",
      "efficiency: 0.65\n",
      "       date in_bed  sleep   wake out_bed  efficiency\n",
      "0  21/02/21  22:37  23:15  08:15   08:49    0.882353\n",
      "0  21/02/21  22:00  23:45  11:00   15:15    0.650000\n"
     ]
    }
   ],
   "source": [
    "\n",
    "ds = sleep(ds)\n",
    "print(ds)"
   ]
  },
  {
   "cell_type": "code",
   "execution_count": 220,
   "metadata": {},
   "outputs": [
    {
     "data": {
      "text/html": [
       "<div>\n",
       "<style scoped>\n",
       "    .dataframe tbody tr th:only-of-type {\n",
       "        vertical-align: middle;\n",
       "    }\n",
       "\n",
       "    .dataframe tbody tr th {\n",
       "        vertical-align: top;\n",
       "    }\n",
       "\n",
       "    .dataframe thead th {\n",
       "        text-align: right;\n",
       "    }\n",
       "</style>\n",
       "<table border=\"1\" class=\"dataframe\">\n",
       "  <thead>\n",
       "    <tr style=\"text-align: right;\">\n",
       "      <th></th>\n",
       "      <th>date</th>\n",
       "      <th>in_bed</th>\n",
       "      <th>sleep</th>\n",
       "      <th>wake</th>\n",
       "      <th>out_bed</th>\n",
       "      <th>efficiency</th>\n",
       "    </tr>\n",
       "  </thead>\n",
       "  <tbody>\n",
       "    <tr>\n",
       "      <th>0</th>\n",
       "      <td>21/02/21</td>\n",
       "      <td>22:37</td>\n",
       "      <td>23:15</td>\n",
       "      <td>08:15</td>\n",
       "      <td>08:49</td>\n",
       "      <td>0.882353</td>\n",
       "    </tr>\n",
       "  </tbody>\n",
       "</table>\n",
       "</div>"
      ],
      "text/plain": [
       "       date in_bed  sleep   wake out_bed  efficiency\n",
       "0  21/02/21  22:37  23:15  08:15   08:49    0.882353"
      ]
     },
     "execution_count": 220,
     "metadata": {},
     "output_type": "execute_result"
    }
   ],
   "source": [
    "ds.to_csv()"
   ]
  },
  {
   "cell_type": "code",
   "execution_count": 14,
   "metadata": {},
   "outputs": [
    {
     "data": {
      "text/plain": [
       "'11:03:06.881277'"
      ]
     },
     "execution_count": 14,
     "metadata": {},
     "output_type": "execute_result"
    }
   ],
   "source": [
    "str(datetime.datetime.now().time())"
   ]
  },
  {
   "cell_type": "code",
   "execution_count": null,
   "metadata": {},
   "outputs": [],
   "source": []
  }
 ],
 "metadata": {
  "kernelspec": {
   "display_name": "Python 3",
   "language": "python",
   "name": "python3"
  },
  "language_info": {
   "codemirror_mode": {
    "name": "ipython",
    "version": 3
   },
   "file_extension": ".py",
   "mimetype": "text/x-python",
   "name": "python",
   "nbconvert_exporter": "python",
   "pygments_lexer": "ipython3",
   "version": "3.7.3"
  }
 },
 "nbformat": 4,
 "nbformat_minor": 2
}
